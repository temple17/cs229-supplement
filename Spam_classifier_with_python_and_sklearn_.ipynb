{
  "nbformat": 4,
  "nbformat_minor": 0,
  "metadata": {
    "colab": {
      "name": "Spam classifier with python and sklearn .ipynb",
      "provenance": [],
      "collapsed_sections": [],
      "authorship_tag": "ABX9TyM35Ahav4ifS9bf25TnO9jt",
      "include_colab_link": true
    },
    "kernelspec": {
      "name": "python3",
      "display_name": "Python 3"
    },
    "language_info": {
      "name": "python"
    }
  },
  "cells": [
    {
      "cell_type": "markdown",
      "metadata": {
        "id": "view-in-github",
        "colab_type": "text"
      },
      "source": [
        "<a href=\"https://colab.research.google.com/github/temple17/cs229-supplement/blob/main/Spam_classifier_with_python_and_sklearn_.ipynb\" target=\"_parent\"><img src=\"https://colab.research.google.com/assets/colab-badge.svg\" alt=\"Open In Colab\"/></a>"
      ]
    },
    {
      "cell_type": "markdown",
      "source": [
        "# All of the codes and scripts are made by Milind Soorya's blog.\n",
        "\n",
        "following url : https://www.milindsoorya.com/blog/build-a-spam-classifier-in-python\n",
        "\n",
        "It was really helpful for me to study naive bayes and its model development."
      ],
      "metadata": {
        "id": "zyYzvETW5yTm"
      }
    },
    {
      "cell_type": "code",
      "source": [
        "# Import \n",
        "\n"
      ],
      "metadata": {
        "id": "vA2VrMAe6UYD"
      },
      "execution_count": null,
      "outputs": []
    }
  ]
}