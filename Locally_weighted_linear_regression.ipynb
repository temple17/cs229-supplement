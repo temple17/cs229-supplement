{
  "nbformat": 4,
  "nbformat_minor": 0,
  "metadata": {
    "colab": {
      "name": "Locally weighted linear regression.ipynb",
      "provenance": [],
      "collapsed_sections": [],
      "authorship_tag": "ABX9TyO7yflISypb1rsHX2W78KlN",
      "include_colab_link": true
    },
    "kernelspec": {
      "name": "python3",
      "display_name": "Python 3"
    },
    "language_info": {
      "name": "python"
    }
  },
  "cells": [
    {
      "cell_type": "markdown",
      "metadata": {
        "id": "view-in-github",
        "colab_type": "text"
      },
      "source": [
        "<a href=\"https://colab.research.google.com/github/temple17/cs229-supplement/blob/main/Locally_weighted_linear_regression.ipynb\" target=\"_parent\"><img src=\"https://colab.research.google.com/assets/colab-badge.svg\" alt=\"Open In Colab\"/></a>"
      ]
    },
    {
      "cell_type": "markdown",
      "source": [
        "source : https://towardsdatascience.com/locally-weighted-linear-regression-in-python-3d324108efbf"
      ],
      "metadata": {
        "id": "L8POAcgtjllj"
      }
    },
    {
      "cell_type": "code",
      "execution_count": 1,
      "metadata": {
        "id": "NPzpt1XMfzIb"
      },
      "outputs": [],
      "source": [
        "import numpy as np\n",
        "\n",
        "np.random.seed(8)\n",
        "\n",
        "X = np.random.randn(1000, 1)\n",
        "y = 2*(X**3) + 10 + 4.6*np.random.randn(1000,1)"
      ]
    },
    {
      "cell_type": "code",
      "source": [
        "def wm(point, X, tau):\n",
        "    # tau --> bandwidth\n",
        "    # X --> training data\n",
        "    # point --> the x where we want to make the prediction\n",
        "    # m is the no of training examples\n",
        "    m = X.shape[0]\n",
        "    w = np.mat(np.eye(m))\n",
        "\n",
        "    # calculate weights for all training examples\n",
        "    for i in range(m):\n",
        "        xi = X[i]\n",
        "        d = (-2 * tau * tau)\n",
        "        w[i, i] = np.exp(np.dot((xi-point), (xi-point).T)/d)\n",
        "    return w\n",
        "\n"
      ],
      "metadata": {
        "id": "OP3e2iVOgGla"
      },
      "execution_count": 2,
      "outputs": []
    },
    {
      "cell_type": "code",
      "source": [
        "def predict(X, y, point, tau):\n",
        "    m = X.shape[0]\n",
        "    X_ = np.append(X, np.ones(m).reshape(m,1), axis = 1)\n",
        "    point_ = np.array([point, 1])\n",
        "\n",
        "    w = wm(point_, X_, tau)\n",
        "    theta = np.linalg.pinv(X_.T*(w * X_)) * (X_.T*(w*y))\n",
        "    pred = np.dot(point_, theta)\n",
        "\n",
        "    return theta, pred"
      ],
      "metadata": {
        "id": "ukn2peFOg7wf"
      },
      "execution_count": 3,
      "outputs": []
    },
    {
      "cell_type": "code",
      "source": [
        "import matplotlib.pyplot as plt"
      ],
      "metadata": {
        "id": "sGFLS1Vkh_sF"
      },
      "execution_count": 4,
      "outputs": []
    },
    {
      "cell_type": "code",
      "source": [
        "def plot_predictions(X, y, tau, nval):\n",
        "    # nval --> number of values/points for which we are going to predict\n",
        "    X_test = np.linspace(-3, 3, nval)\n",
        "    preds = []\n",
        "    for point in X_test:\n",
        "        theta, pred = predict(X, y, point, tau)\n",
        "        preds.append(pred)\n",
        "    \n",
        "    X_test = np.array(X_test).reshape(nval, 1)\n",
        "    preds = np.array(preds).reshape(nval, 1)\n",
        "    \n",
        "    plt.plot(X, y, 'b.')\n",
        "    plt.plot(X_test, preds, 'r.')\n",
        "    plt.show()\n",
        "plot_predictions(X, y, 0.08, 100)"
      ],
      "metadata": {
        "colab": {
          "base_uri": "https://localhost:8080/",
          "height": 265
        },
        "id": "IARVhnCWhmPL",
        "outputId": "3e28e954-7de7-4b03-eae0-5b09682102df"
      },
      "execution_count": 5,
      "outputs": [
        {
          "output_type": "display_data",
          "data": {
            "text/plain": [
              "<Figure size 432x288 with 1 Axes>"
            ],
            "image/png": "[encoded data removed]"
          },
          "metadata": {
            "needs_background": "light"
          }
        }
      ]
    }
  ]
}